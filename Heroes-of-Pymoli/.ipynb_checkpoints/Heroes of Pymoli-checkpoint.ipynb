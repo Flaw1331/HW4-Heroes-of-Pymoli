{
 "cells": [
  {
   "cell_type": "markdown",
   "metadata": {
    "collapsed": true
   },
   "source": [
    "# Heroes of Pymoli Data Analysis\n",
    "\n",
    "* Observed Trend 1: \n",
    "\n",
    "The majority of the player base appears to be male, with the largest demographics lying between the ages 15 and 29. Of this range, the 20-24 year old demographic is the most prominent in terms of players base, and accounts for the largest number of purchases made per age range.\n",
    "    \n",
    "\n",
    "* Observed Trend 2:\n",
    "\n",
    "There is a general trend of increased spending per player as the player's age increases. This is to say, the older the player is, the higher their average spend is on an item. One explanation for this trend could be that, with age, one accumulates more discretionary income to spend on things like in-game video game items. The notable excepts seem to be the age ranges 14 and under. They have inverse trends of the older groups and tend to spend more the younger they are. One explanation for this could be that these are children who aren't necessarily using their own funds to puchase items. Suggesting that these purchases might be made by or with the parent's consent (or without) and thus, result in a higher spend due to it being more of a \"gift\" or \"treat\".\n",
    "\n",
    "\n",
    "* Observed Trend 3:\n",
    "\n",
    "When it comes to individual items, the most popular/often bought items did not always translate into being the most profitable. While the \"Betrayal, Whisper of Grieving Widows\" item was the second most purchased item, it did not make the top 5 most profitable items, suggesting that the item could potentially use a price increase to take advantage the in high popularity to maximize the profitability. Additionally, the most profitable items all tend to be higher priced items that can cover the spread better per purchase while still maintaining a relatively cheap price-point compared to other items."
   ]
  },
  {
   "cell_type": "code",
   "execution_count": 253,
   "metadata": {},
   "outputs": [],
   "source": [
    "# Importing Essentials\n",
    "import matplotlib.pyplot as plt\n",
    "import pandas as pd\n",
    "import numpy as np\n",
    "import os\n",
    "\n",
    "# Take in all of our purchasing data and read it into pandas\n",
    "purchase_file1 = os.path.join(\"Resources\", \"purchase_data.json\")\n",
    "purchase_file2 = os.path.join(\"Resources\", \"purchase_data2.json\")\n",
    "\n",
    "purchase_data1_df = pd.read_json(purchase_file1)\n",
    "purchase_data2_df = pd.read_json(purchase_file2)\n",
    "\n",
    "# Merging the Purchasing Data\n",
    "combined_purchase_df = pd.concat([purchase_data1_df, purchase_data2_df])"
   ]
  },
  {
   "cell_type": "markdown",
   "metadata": {},
   "source": [
    "# Player Count"
   ]
  },
  {
   "cell_type": "code",
   "execution_count": 244,
   "metadata": {
    "scrolled": false
   },
   "outputs": [
    {
     "data": {
      "text/html": [
       "<div>\n",
       "<style>\n",
       "    .dataframe thead tr:only-child th {\n",
       "        text-align: right;\n",
       "    }\n",
       "\n",
       "    .dataframe thead th {\n",
       "        text-align: left;\n",
       "    }\n",
       "\n",
       "    .dataframe tbody tr th {\n",
       "        vertical-align: top;\n",
       "    }\n",
       "</style>\n",
       "<table border=\"1\" class=\"dataframe\">\n",
       "  <thead>\n",
       "    <tr style=\"text-align: right;\">\n",
       "      <th></th>\n",
       "      <th>Total Players</th>\n",
       "    </tr>\n",
       "  </thead>\n",
       "  <tbody>\n",
       "    <tr>\n",
       "      <th>0</th>\n",
       "      <td>612</td>\n",
       "    </tr>\n",
       "  </tbody>\n",
       "</table>\n",
       "</div>"
      ],
      "text/plain": [
       "   Total Players\n",
       "0            612"
      ]
     },
     "execution_count": 244,
     "metadata": {},
     "output_type": "execute_result"
    }
   ],
   "source": [
    "# Finding the unique IDs and counting them\n",
    "player_count = len(combined_purchase_df[\"SN\"].value_counts())\n",
    "player_count = pd.DataFrame({\"Total Players\": [player_count]})\n",
    "\n",
    "player_count"
   ]
  },
  {
   "cell_type": "markdown",
   "metadata": {},
   "source": [
    "# Purchasing Analytsis (Total)"
   ]
  },
  {
   "cell_type": "code",
   "execution_count": 245,
   "metadata": {},
   "outputs": [
    {
     "data": {
      "text/html": [
       "<style  type=\"text/css\" >\n",
       "</style>  \n",
       "<table id=\"T_a6390c50_f70c_11e7_a92c_b4b52f307ce2\" > \n",
       "<thead>    <tr> \n",
       "        <th class=\"blank level0\" ></th> \n",
       "        <th class=\"col_heading level0 col0\" >Average Price</th> \n",
       "        <th class=\"col_heading level0 col1\" >Number of Purchases</th> \n",
       "        <th class=\"col_heading level0 col2\" >Number of Unique Items</th> \n",
       "        <th class=\"col_heading level0 col3\" >Total Revenue</th> \n",
       "    </tr></thead> \n",
       "<tbody>    <tr> \n",
       "        <th id=\"T_a6390c50_f70c_11e7_a92c_b4b52f307ce2level0_row0\" class=\"row_heading level0 row0\" >0</th> \n",
       "        <td id=\"T_a6390c50_f70c_11e7_a92c_b4b52f307ce2row0_col0\" class=\"data row0 col0\" >$2.93</td> \n",
       "        <td id=\"T_a6390c50_f70c_11e7_a92c_b4b52f307ce2row0_col1\" class=\"data row0 col1\" >858</td> \n",
       "        <td id=\"T_a6390c50_f70c_11e7_a92c_b4b52f307ce2row0_col2\" class=\"data row0 col2\" >180</td> \n",
       "        <td id=\"T_a6390c50_f70c_11e7_a92c_b4b52f307ce2row0_col3\" class=\"data row0 col3\" >$2514.43</td> \n",
       "    </tr></tbody> \n",
       "</table> "
      ],
      "text/plain": [
       "<pandas.io.formats.style.Styler at 0x24fc9d7c0f0>"
      ]
     },
     "execution_count": 245,
     "metadata": {},
     "output_type": "execute_result"
    }
   ],
   "source": [
    "# Number of Unique Items\n",
    "unique_items = len(combined_purchase_df[\"Item Name\"].value_counts())\n",
    "\n",
    "# Average Purchase Price\n",
    "avg_purchase_price = (sum(combined_purchase_df[\"Price\"])/len(combined_purchase_df.index))\n",
    "\n",
    "# Total Number of Purchases\n",
    "total_purchases = len(combined_purchase_df.index)\n",
    "\n",
    "# Total Revenue\n",
    "total_revenue = sum(combined_purchase_df[\"Price\"])\n",
    "\n",
    "# Creating the output\n",
    "purchasing_analysis_df = pd.DataFrame({'Number of Unique Items': [unique_items], 'Average Price': [avg_purchase_price],\\\n",
    "                                       'Number of Purchases': [total_purchases], 'Total Revenue': [total_revenue]})\n",
    "purchasing_analysis_df.style.format({'Average Price': '${:.2f}', 'Total Revenue': '${:.2f}'})"
   ]
  },
  {
   "cell_type": "markdown",
   "metadata": {},
   "source": [
    "# Gender Demographics"
   ]
  },
  {
   "cell_type": "code",
   "execution_count": 246,
   "metadata": {},
   "outputs": [
    {
     "data": {
      "text/html": [
       "<style  type=\"text/css\" >\n",
       "</style>  \n",
       "<table id=\"T_a6aed0b4_f70c_11e7_ad40_b4b52f307ce2\" > \n",
       "<thead>    <tr> \n",
       "        <th class=\"blank level0\" ></th> \n",
       "        <th class=\"col_heading level0 col0\" >Percentage of Players</th> \n",
       "        <th class=\"col_heading level0 col1\" >Total Count</th> \n",
       "    </tr>    <tr> \n",
       "        <th class=\"index_name level0\" >Gender</th> \n",
       "        <th class=\"blank\" ></th> \n",
       "        <th class=\"blank\" ></th> \n",
       "    </tr></thead> \n",
       "<tbody>    <tr> \n",
       "        <th id=\"T_a6aed0b4_f70c_11e7_ad40_b4b52f307ce2level0_row0\" class=\"row_heading level0 row0\" >Female</th> \n",
       "        <td id=\"T_a6aed0b4_f70c_11e7_ad40_b4b52f307ce2row0_col0\" class=\"data row0 col0\" >17.65%</td> \n",
       "        <td id=\"T_a6aed0b4_f70c_11e7_ad40_b4b52f307ce2row0_col1\" class=\"data row0 col1\" >108</td> \n",
       "    </tr>    <tr> \n",
       "        <th id=\"T_a6aed0b4_f70c_11e7_ad40_b4b52f307ce2level0_row1\" class=\"row_heading level0 row1\" >Male</th> \n",
       "        <td id=\"T_a6aed0b4_f70c_11e7_ad40_b4b52f307ce2row1_col0\" class=\"data row1 col0\" >80.88%</td> \n",
       "        <td id=\"T_a6aed0b4_f70c_11e7_ad40_b4b52f307ce2row1_col1\" class=\"data row1 col1\" >495</td> \n",
       "    </tr>    <tr> \n",
       "        <th id=\"T_a6aed0b4_f70c_11e7_ad40_b4b52f307ce2level0_row2\" class=\"row_heading level0 row2\" >Other / Non-Disclosed</th> \n",
       "        <td id=\"T_a6aed0b4_f70c_11e7_ad40_b4b52f307ce2row2_col0\" class=\"data row2 col0\" >1.47%</td> \n",
       "        <td id=\"T_a6aed0b4_f70c_11e7_ad40_b4b52f307ce2row2_col1\" class=\"data row2 col1\" >9</td> \n",
       "    </tr></tbody> \n",
       "</table> "
      ],
      "text/plain": [
       "<pandas.io.formats.style.Styler at 0x24fc7990390>"
      ]
     },
     "execution_count": 246,
     "metadata": {},
     "output_type": "execute_result"
    }
   ],
   "source": [
    "# Creating a Data Frame that has duplicate users removed\n",
    "uniq_sn_df = combined_purchase_df.drop_duplicates(subset='SN', keep='first')\n",
    "\n",
    "# Creating groups and calculating values for percent\n",
    "gender_count_df = pd.DataFrame(uniq_sn_df['Gender'].groupby(uniq_sn_df['Gender']).count())\n",
    "gender_percent_df = pd.DataFrame((uniq_sn_df['Gender'].groupby(uniq_sn_df['Gender']).count())/len(uniq_sn_df.index)*100)\n",
    "\n",
    "# Renaming each dataframe before merging\n",
    "gender_count_df.rename(columns={'Gender':'Total Count'}, inplace=True)\n",
    "gender_percent_df.rename(columns={'Gender':'Percentage of Players'}, inplace=True)\n",
    "\n",
    "# Merging the data frames\n",
    "gender_combined_df = pd.concat([gender_percent_df, gender_count_df], axis=1)\n",
    "\n",
    "# Formatting table\n",
    "gender_combined_df.style.format({'Total Count':'{}', 'Percentage of Players':'{:.2f}%'})"
   ]
  },
  {
   "cell_type": "markdown",
   "metadata": {
    "collapsed": true
   },
   "source": [
    "# Purchasing Analysis (Gender)"
   ]
  },
  {
   "cell_type": "code",
   "execution_count": 247,
   "metadata": {},
   "outputs": [
    {
     "data": {
      "text/html": [
       "<style  type=\"text/css\" >\n",
       "</style>  \n",
       "<table id=\"T_a71d845a_f70c_11e7_b9fe_b4b52f307ce2\" > \n",
       "<thead>    <tr> \n",
       "        <th class=\"blank level0\" ></th> \n",
       "        <th class=\"col_heading level0 col0\" >Purchase Count</th> \n",
       "        <th class=\"col_heading level0 col1\" >Average Purchase Price</th> \n",
       "        <th class=\"col_heading level0 col2\" >Total Purchase Value</th> \n",
       "        <th class=\"col_heading level0 col3\" >Normalized Totals</th> \n",
       "    </tr>    <tr> \n",
       "        <th class=\"index_name level0\" >Gender</th> \n",
       "        <th class=\"blank\" ></th> \n",
       "        <th class=\"blank\" ></th> \n",
       "        <th class=\"blank\" ></th> \n",
       "        <th class=\"blank\" ></th> \n",
       "    </tr></thead> \n",
       "<tbody>    <tr> \n",
       "        <th id=\"T_a71d845a_f70c_11e7_b9fe_b4b52f307ce2level0_row0\" class=\"row_heading level0 row0\" >Female</th> \n",
       "        <td id=\"T_a71d845a_f70c_11e7_b9fe_b4b52f307ce2row0_col0\" class=\"data row0 col0\" >149</td> \n",
       "        <td id=\"T_a71d845a_f70c_11e7_b9fe_b4b52f307ce2row0_col1\" class=\"data row0 col1\" >$2.85</td> \n",
       "        <td id=\"T_a71d845a_f70c_11e7_b9fe_b4b52f307ce2row0_col2\" class=\"data row0 col2\" >$424.29</td> \n",
       "        <td id=\"T_a71d845a_f70c_11e7_b9fe_b4b52f307ce2row0_col3\" class=\"data row0 col3\" >$3.93</td> \n",
       "    </tr>    <tr> \n",
       "        <th id=\"T_a71d845a_f70c_11e7_b9fe_b4b52f307ce2level0_row1\" class=\"row_heading level0 row1\" >Male</th> \n",
       "        <td id=\"T_a71d845a_f70c_11e7_b9fe_b4b52f307ce2row1_col0\" class=\"data row1 col0\" >697</td> \n",
       "        <td id=\"T_a71d845a_f70c_11e7_b9fe_b4b52f307ce2row1_col1\" class=\"data row1 col1\" >$2.94</td> \n",
       "        <td id=\"T_a71d845a_f70c_11e7_b9fe_b4b52f307ce2row1_col2\" class=\"data row1 col2\" >$2052.28</td> \n",
       "        <td id=\"T_a71d845a_f70c_11e7_b9fe_b4b52f307ce2row1_col3\" class=\"data row1 col3\" >$4.15</td> \n",
       "    </tr>    <tr> \n",
       "        <th id=\"T_a71d845a_f70c_11e7_b9fe_b4b52f307ce2level0_row2\" class=\"row_heading level0 row2\" >Other / Non-Disclosed</th> \n",
       "        <td id=\"T_a71d845a_f70c_11e7_b9fe_b4b52f307ce2row2_col0\" class=\"data row2 col0\" >12</td> \n",
       "        <td id=\"T_a71d845a_f70c_11e7_b9fe_b4b52f307ce2row2_col1\" class=\"data row2 col1\" >$3.15</td> \n",
       "        <td id=\"T_a71d845a_f70c_11e7_b9fe_b4b52f307ce2row2_col2\" class=\"data row2 col2\" >$37.86</td> \n",
       "        <td id=\"T_a71d845a_f70c_11e7_b9fe_b4b52f307ce2row2_col3\" class=\"data row2 col3\" >$4.21</td> \n",
       "    </tr></tbody> \n",
       "</table> "
      ],
      "text/plain": [
       "<pandas.io.formats.style.Styler at 0x24fc9d80908>"
      ]
     },
     "execution_count": 247,
     "metadata": {},
     "output_type": "execute_result"
    }
   ],
   "source": [
    "# The below each broken by gender\n",
    "\n",
    "# Purchase \n",
    "purchase_count_df = pd.DataFrame(combined_purchase_df['Gender'].groupby(combined_purchase_df['Gender']).count())\n",
    "purchase_count_df.rename(columns={'Gender': 'Purchase Count'}, inplace=True)\n",
    "\n",
    "# Average Purchase Price\n",
    "avg_purchase_percent_df = pd.DataFrame(combined_purchase_df['Price'].groupby(combined_purchase_df['Gender']).mean())\n",
    "avg_purchase_percent_df.rename(columns={'Price': 'Average Purchase Price'}, inplace=True)\n",
    "\n",
    "# Total Purchase Value\n",
    "total_purchase_value_df = pd.DataFrame(combined_purchase_df['Price'].groupby(combined_purchase_df['Gender']).sum())\n",
    "total_purchase_value_df.rename(columns={'Price': 'Total Purchase Value'}, inplace=True)\n",
    "\n",
    "# Normalized Totals\n",
    "normalized_avg_purchase_df = pd.DataFrame((combined_purchase_df['Price'].groupby(combined_purchase_df['Gender']).sum())/ \\\n",
    "                                          uniq_sn_df['Gender'].groupby(uniq_sn_df['Gender']).count())\n",
    "normalized_avg_purchase_df.rename(columns={0: 'Normalized Totals'}, inplace=True)\n",
    "\n",
    "purchase_analysis_df = pd.concat([pd.concat([pd.concat([purchase_count_df, avg_purchase_percent_df], axis=1), \\\n",
    "                                  total_purchase_value_df], axis=1), normalized_avg_purchase_df], axis=1)\n",
    "\n",
    "purchase_analysis_df.style.format({'Normalized Totals':'${:.2f}', 'Total Purchase Value':'${:.2f}', \\\n",
    "                                   'Average Purchase Price':'${:.2f}'})"
   ]
  },
  {
   "cell_type": "markdown",
   "metadata": {
    "collapsed": true
   },
   "source": [
    "# Age Demographics"
   ]
  },
  {
   "cell_type": "code",
   "execution_count": 248,
   "metadata": {},
   "outputs": [
    {
     "data": {
      "text/html": [
       "<style  type=\"text/css\" >\n",
       "</style>  \n",
       "<table id=\"T_a794b11e_f70c_11e7_9dde_b4b52f307ce2\" > \n",
       "<thead>    <tr> \n",
       "        <th class=\"blank level0\" ></th> \n",
       "        <th class=\"col_heading level0 col0\" >Percentage of Players</th> \n",
       "        <th class=\"col_heading level0 col1\" >Total Count</th> \n",
       "    </tr></thead> \n",
       "<tbody>    <tr> \n",
       "        <th id=\"T_a794b11e_f70c_11e7_9dde_b4b52f307ce2level0_row0\" class=\"row_heading level0 row0\" ><10</th> \n",
       "        <td id=\"T_a794b11e_f70c_11e7_9dde_b4b52f307ce2row0_col0\" class=\"data row0 col0\" >3.92%</td> \n",
       "        <td id=\"T_a794b11e_f70c_11e7_9dde_b4b52f307ce2row0_col1\" class=\"data row0 col1\" >24</td> \n",
       "    </tr>    <tr> \n",
       "        <th id=\"T_a794b11e_f70c_11e7_9dde_b4b52f307ce2level0_row1\" class=\"row_heading level0 row1\" >10-14</th> \n",
       "        <td id=\"T_a794b11e_f70c_11e7_9dde_b4b52f307ce2row1_col0\" class=\"data row1 col0\" >3.59%</td> \n",
       "        <td id=\"T_a794b11e_f70c_11e7_9dde_b4b52f307ce2row1_col1\" class=\"data row1 col1\" >22</td> \n",
       "    </tr>    <tr> \n",
       "        <th id=\"T_a794b11e_f70c_11e7_9dde_b4b52f307ce2level0_row2\" class=\"row_heading level0 row2\" >15-19</th> \n",
       "        <td id=\"T_a794b11e_f70c_11e7_9dde_b4b52f307ce2row2_col0\" class=\"data row2 col0\" >17.48%</td> \n",
       "        <td id=\"T_a794b11e_f70c_11e7_9dde_b4b52f307ce2row2_col1\" class=\"data row2 col1\" >107</td> \n",
       "    </tr>    <tr> \n",
       "        <th id=\"T_a794b11e_f70c_11e7_9dde_b4b52f307ce2level0_row3\" class=\"row_heading level0 row3\" >20-24</th> \n",
       "        <td id=\"T_a794b11e_f70c_11e7_9dde_b4b52f307ce2row3_col0\" class=\"data row3 col0\" >44.44%</td> \n",
       "        <td id=\"T_a794b11e_f70c_11e7_9dde_b4b52f307ce2row3_col1\" class=\"data row3 col1\" >272</td> \n",
       "    </tr>    <tr> \n",
       "        <th id=\"T_a794b11e_f70c_11e7_9dde_b4b52f307ce2level0_row4\" class=\"row_heading level0 row4\" >25-29</th> \n",
       "        <td id=\"T_a794b11e_f70c_11e7_9dde_b4b52f307ce2row4_col0\" class=\"data row4 col0\" >15.20%</td> \n",
       "        <td id=\"T_a794b11e_f70c_11e7_9dde_b4b52f307ce2row4_col1\" class=\"data row4 col1\" >93</td> \n",
       "    </tr>    <tr> \n",
       "        <th id=\"T_a794b11e_f70c_11e7_9dde_b4b52f307ce2level0_row5\" class=\"row_heading level0 row5\" >30-34</th> \n",
       "        <td id=\"T_a794b11e_f70c_11e7_9dde_b4b52f307ce2row5_col0\" class=\"data row5 col0\" >8.33%</td> \n",
       "        <td id=\"T_a794b11e_f70c_11e7_9dde_b4b52f307ce2row5_col1\" class=\"data row5 col1\" >51</td> \n",
       "    </tr>    <tr> \n",
       "        <th id=\"T_a794b11e_f70c_11e7_9dde_b4b52f307ce2level0_row6\" class=\"row_heading level0 row6\" >35-39</th> \n",
       "        <td id=\"T_a794b11e_f70c_11e7_9dde_b4b52f307ce2row6_col0\" class=\"data row6 col0\" >5.23%</td> \n",
       "        <td id=\"T_a794b11e_f70c_11e7_9dde_b4b52f307ce2row6_col1\" class=\"data row6 col1\" >32</td> \n",
       "    </tr>    <tr> \n",
       "        <th id=\"T_a794b11e_f70c_11e7_9dde_b4b52f307ce2level0_row7\" class=\"row_heading level0 row7\" >40+</th> \n",
       "        <td id=\"T_a794b11e_f70c_11e7_9dde_b4b52f307ce2row7_col0\" class=\"data row7 col0\" >1.80%</td> \n",
       "        <td id=\"T_a794b11e_f70c_11e7_9dde_b4b52f307ce2row7_col1\" class=\"data row7 col1\" >11</td> \n",
       "    </tr></tbody> \n",
       "</table> "
      ],
      "text/plain": [
       "<pandas.io.formats.style.Styler at 0x24fc79aa240>"
      ]
     },
     "execution_count": 248,
     "metadata": {},
     "output_type": "execute_result"
    }
   ],
   "source": [
    "# Breaking down age groups across all purchases\n",
    "\n",
    "index= ['<10', '10-14', '15-19', '20-24', '25-29', '30-34', '35-39', '40+']\n",
    "bins = [0, 10, 14, 19, 24, 29, 34, 39, 200]\n",
    "\n",
    "# Creating binned DF\n",
    "age_demographics_bins_df = pd.DataFrame(pd.cut(uniq_sn_df['Age'], bins, labels=index))\n",
    "\n",
    "# Creating a count DF\n",
    "age_demographics_counts_df = pd.DataFrame(age_demographics_bins_df['Age'].value_counts())\n",
    "age_demographics_counts_df.rename(columns={'Age': 'Total Count'}, inplace=True)\n",
    "\n",
    "# Creating a percent for each age bin\n",
    "age_demographics_percent_df = pd.DataFrame(age_demographics_bins_df['Age'].value_counts() / len(uniq_sn_df.index) * 100)\n",
    "age_demographics_percent_df.rename(columns={'Age': 'Percentage of Players'}, inplace=True)\n",
    "\n",
    "# Merging the dataframes to make one big one\n",
    "age_demographics_combined_df = pd.concat([age_demographics_percent_df, age_demographics_counts_df], axis=1)\n",
    "\n",
    "# Reformatting the dataframe\n",
    "age_demographics_combined_df.sort_index(inplace=True)\n",
    "age_demographics_combined_df.style.format({'Percentage of Players':'{:.2f}%'})"
   ]
  },
  {
   "cell_type": "markdown",
   "metadata": {},
   "source": [
    "# Purchasing Analysis (Age)"
   ]
  },
  {
   "cell_type": "code",
   "execution_count": 249,
   "metadata": {
    "scrolled": true
   },
   "outputs": [
    {
     "data": {
      "text/html": [
       "<style  type=\"text/css\" >\n",
       "</style>  \n",
       "<table id=\"T_a8164500_f70c_11e7_936b_b4b52f307ce2\" > \n",
       "<thead>    <tr> \n",
       "        <th class=\"blank level0\" ></th> \n",
       "        <th class=\"col_heading level0 col0\" >Purchase Count</th> \n",
       "        <th class=\"col_heading level0 col1\" >Average Purchase Price</th> \n",
       "        <th class=\"col_heading level0 col2\" >Total Purchase Value</th> \n",
       "        <th class=\"col_heading level0 col3\" >Normalized Totals</th> \n",
       "    </tr>    <tr> \n",
       "        <th class=\"index_name level0\" >Age Group</th> \n",
       "        <th class=\"blank\" ></th> \n",
       "        <th class=\"blank\" ></th> \n",
       "        <th class=\"blank\" ></th> \n",
       "        <th class=\"blank\" ></th> \n",
       "    </tr></thead> \n",
       "<tbody>    <tr> \n",
       "        <th id=\"T_a8164500_f70c_11e7_936b_b4b52f307ce2level0_row0\" class=\"row_heading level0 row0\" >10-14</th> \n",
       "        <td id=\"T_a8164500_f70c_11e7_936b_b4b52f307ce2row0_col0\" class=\"data row0 col0\" >34</td> \n",
       "        <td id=\"T_a8164500_f70c_11e7_936b_b4b52f307ce2row0_col1\" class=\"data row0 col1\" >$2.73</td> \n",
       "        <td id=\"T_a8164500_f70c_11e7_936b_b4b52f307ce2row0_col2\" class=\"data row0 col2\" >$92.75</td> \n",
       "        <td id=\"T_a8164500_f70c_11e7_936b_b4b52f307ce2row0_col3\" class=\"data row0 col3\" >$4.22</td> \n",
       "    </tr>    <tr> \n",
       "        <th id=\"T_a8164500_f70c_11e7_936b_b4b52f307ce2level0_row1\" class=\"row_heading level0 row1\" >15-19</th> \n",
       "        <td id=\"T_a8164500_f70c_11e7_936b_b4b52f307ce2row1_col0\" class=\"data row1 col0\" >144</td> \n",
       "        <td id=\"T_a8164500_f70c_11e7_936b_b4b52f307ce2row1_col1\" class=\"data row1 col1\" >$2.89</td> \n",
       "        <td id=\"T_a8164500_f70c_11e7_936b_b4b52f307ce2row1_col2\" class=\"data row1 col2\" >$416.83</td> \n",
       "        <td id=\"T_a8164500_f70c_11e7_936b_b4b52f307ce2row1_col3\" class=\"data row1 col3\" >$3.90</td> \n",
       "    </tr>    <tr> \n",
       "        <th id=\"T_a8164500_f70c_11e7_936b_b4b52f307ce2level0_row2\" class=\"row_heading level0 row2\" >20-24</th> \n",
       "        <td id=\"T_a8164500_f70c_11e7_936b_b4b52f307ce2row2_col0\" class=\"data row2 col0\" >372</td> \n",
       "        <td id=\"T_a8164500_f70c_11e7_936b_b4b52f307ce2row2_col1\" class=\"data row2 col1\" >$2.92</td> \n",
       "        <td id=\"T_a8164500_f70c_11e7_936b_b4b52f307ce2row2_col2\" class=\"data row2 col2\" >$1087.66</td> \n",
       "        <td id=\"T_a8164500_f70c_11e7_936b_b4b52f307ce2row2_col3\" class=\"data row2 col3\" >$4.00</td> \n",
       "    </tr>    <tr> \n",
       "        <th id=\"T_a8164500_f70c_11e7_936b_b4b52f307ce2level0_row3\" class=\"row_heading level0 row3\" >25-29</th> \n",
       "        <td id=\"T_a8164500_f70c_11e7_936b_b4b52f307ce2row3_col0\" class=\"data row3 col0\" >134</td> \n",
       "        <td id=\"T_a8164500_f70c_11e7_936b_b4b52f307ce2row3_col1\" class=\"data row3 col1\" >$2.96</td> \n",
       "        <td id=\"T_a8164500_f70c_11e7_936b_b4b52f307ce2row3_col2\" class=\"data row3 col2\" >$396.44</td> \n",
       "        <td id=\"T_a8164500_f70c_11e7_936b_b4b52f307ce2row3_col3\" class=\"data row3 col3\" >$4.26</td> \n",
       "    </tr>    <tr> \n",
       "        <th id=\"T_a8164500_f70c_11e7_936b_b4b52f307ce2level0_row4\" class=\"row_heading level0 row4\" >30-34</th> \n",
       "        <td id=\"T_a8164500_f70c_11e7_936b_b4b52f307ce2row4_col0\" class=\"data row4 col0\" >71</td> \n",
       "        <td id=\"T_a8164500_f70c_11e7_936b_b4b52f307ce2row4_col1\" class=\"data row4 col1\" >$2.97</td> \n",
       "        <td id=\"T_a8164500_f70c_11e7_936b_b4b52f307ce2row4_col2\" class=\"data row4 col2\" >$211.14</td> \n",
       "        <td id=\"T_a8164500_f70c_11e7_936b_b4b52f307ce2row4_col3\" class=\"data row4 col3\" >$4.14</td> \n",
       "    </tr>    <tr> \n",
       "        <th id=\"T_a8164500_f70c_11e7_936b_b4b52f307ce2level0_row5\" class=\"row_heading level0 row5\" >35-39</th> \n",
       "        <td id=\"T_a8164500_f70c_11e7_936b_b4b52f307ce2row5_col0\" class=\"data row5 col0\" >48</td> \n",
       "        <td id=\"T_a8164500_f70c_11e7_936b_b4b52f307ce2row5_col1\" class=\"data row5 col1\" >$2.93</td> \n",
       "        <td id=\"T_a8164500_f70c_11e7_936b_b4b52f307ce2row5_col2\" class=\"data row5 col2\" >$140.77</td> \n",
       "        <td id=\"T_a8164500_f70c_11e7_936b_b4b52f307ce2row5_col3\" class=\"data row5 col3\" >$4.40</td> \n",
       "    </tr>    <tr> \n",
       "        <th id=\"T_a8164500_f70c_11e7_936b_b4b52f307ce2level0_row6\" class=\"row_heading level0 row6\" >40+</th> \n",
       "        <td id=\"T_a8164500_f70c_11e7_936b_b4b52f307ce2row6_col0\" class=\"data row6 col0\" >18</td> \n",
       "        <td id=\"T_a8164500_f70c_11e7_936b_b4b52f307ce2row6_col1\" class=\"data row6 col1\" >$3.24</td> \n",
       "        <td id=\"T_a8164500_f70c_11e7_936b_b4b52f307ce2row6_col2\" class=\"data row6 col2\" >$58.40</td> \n",
       "        <td id=\"T_a8164500_f70c_11e7_936b_b4b52f307ce2row6_col3\" class=\"data row6 col3\" >$5.31</td> \n",
       "    </tr>    <tr> \n",
       "        <th id=\"T_a8164500_f70c_11e7_936b_b4b52f307ce2level0_row7\" class=\"row_heading level0 row7\" ><10</th> \n",
       "        <td id=\"T_a8164500_f70c_11e7_936b_b4b52f307ce2row7_col0\" class=\"data row7 col0\" >37</td> \n",
       "        <td id=\"T_a8164500_f70c_11e7_936b_b4b52f307ce2row7_col1\" class=\"data row7 col1\" >$2.98</td> \n",
       "        <td id=\"T_a8164500_f70c_11e7_936b_b4b52f307ce2row7_col2\" class=\"data row7 col2\" >$110.44</td> \n",
       "        <td id=\"T_a8164500_f70c_11e7_936b_b4b52f307ce2row7_col3\" class=\"data row7 col3\" >$4.60</td> \n",
       "    </tr></tbody> \n",
       "</table> "
      ],
      "text/plain": [
       "<pandas.io.formats.style.Styler at 0x24fc799cdd8>"
      ]
     },
     "execution_count": 249,
     "metadata": {},
     "output_type": "execute_result"
    }
   ],
   "source": [
    "# Creating new Age Group column to collective DF\n",
    "combined_purchase_df['Age Group'] = pd.DataFrame(pd.cut(combined_purchase_df['Age'], bins, labels=index))\n",
    "\n",
    "# Purchase Count\n",
    "group_purchase_count_df = pd.DataFrame(combined_purchase_df['Gender'].groupby(combined_purchase_df['Age Group']).count())\n",
    "\n",
    "# Average Purchase Price\n",
    "group_avg_purchase_price_df = pd.DataFrame(combined_purchase_df['Price'].groupby(combined_purchase_df['Age Group']).mean())\n",
    "\n",
    "# Total Purchase Value\n",
    "group_total_purchase_value_df = pd.DataFrame(combined_purchase_df['Price'].groupby(combined_purchase_df['Age Group']).sum())\n",
    "\n",
    "# Normalized Totals\n",
    "group_normalized_totals_df = pd.DataFrame((combined_purchase_df['Price'].groupby(combined_purchase_df['Age Group']).sum())/ \\\n",
    "                                         age_demographics_combined_df['Total Count'])\n",
    "\n",
    "# Merging all data\n",
    "group_combined_df = pd.DataFrame(pd.concat([pd.concat([pd.concat([group_purchase_count_df, group_avg_purchase_price_df], \\\n",
    "                                  axis=1), group_total_purchase_value_df], axis=1), group_normalized_totals_df], axis=1))\n",
    "\n",
    "# Formatting final data\n",
    "#group_combined_df.rename(columns={'Total Purchase Value':'TEST'}, inplace=True)\n",
    "group_combined_df.columns = ['Purchase Count', 'Average Purchase Price', 'Total Purchase Value', 'Normalized Totals']\n",
    "group_combined_df.style.format({'Purchase Count': '{}', 'Average Purchase Price':'${:.2f}', \\\n",
    "                                'Total Purchase Value':'${:.2f}', 'Normalized Totals': '${:.2f}'})"
   ]
  },
  {
   "cell_type": "markdown",
   "metadata": {},
   "source": [
    "# Top Spenders"
   ]
  },
  {
   "cell_type": "code",
   "execution_count": 250,
   "metadata": {},
   "outputs": [
    {
     "data": {
      "text/html": [
       "<style  type=\"text/css\" >\n",
       "</style>  \n",
       "<table id=\"T_a8942de6_f70c_11e7_a464_b4b52f307ce2\" > \n",
       "<thead>    <tr> \n",
       "        <th class=\"blank level0\" ></th> \n",
       "        <th class=\"col_heading level0 col0\" >Purchase Count</th> \n",
       "        <th class=\"col_heading level0 col1\" >Average Purchase Price</th> \n",
       "        <th class=\"col_heading level0 col2\" >Total Purchase Value</th> \n",
       "    </tr>    <tr> \n",
       "        <th class=\"index_name level0\" >SN</th> \n",
       "        <th class=\"blank\" ></th> \n",
       "        <th class=\"blank\" ></th> \n",
       "        <th class=\"blank\" ></th> \n",
       "    </tr></thead> \n",
       "<tbody>    <tr> \n",
       "        <th id=\"T_a8942de6_f70c_11e7_a464_b4b52f307ce2level0_row0\" class=\"row_heading level0 row0\" >Undirrala66</th> \n",
       "        <td id=\"T_a8942de6_f70c_11e7_a464_b4b52f307ce2row0_col0\" class=\"data row0 col0\" >5</td> \n",
       "        <td id=\"T_a8942de6_f70c_11e7_a464_b4b52f307ce2row0_col1\" class=\"data row0 col1\" >$3.41</td> \n",
       "        <td id=\"T_a8942de6_f70c_11e7_a464_b4b52f307ce2row0_col2\" class=\"data row0 col2\" >$17.06</td> \n",
       "    </tr>    <tr> \n",
       "        <th id=\"T_a8942de6_f70c_11e7_a464_b4b52f307ce2level0_row1\" class=\"row_heading level0 row1\" >Aerithllora36</th> \n",
       "        <td id=\"T_a8942de6_f70c_11e7_a464_b4b52f307ce2row1_col0\" class=\"data row1 col0\" >4</td> \n",
       "        <td id=\"T_a8942de6_f70c_11e7_a464_b4b52f307ce2row1_col1\" class=\"data row1 col1\" >$3.77</td> \n",
       "        <td id=\"T_a8942de6_f70c_11e7_a464_b4b52f307ce2row1_col2\" class=\"data row1 col2\" >$15.10</td> \n",
       "    </tr>    <tr> \n",
       "        <th id=\"T_a8942de6_f70c_11e7_a464_b4b52f307ce2level0_row2\" class=\"row_heading level0 row2\" >Saedue76</th> \n",
       "        <td id=\"T_a8942de6_f70c_11e7_a464_b4b52f307ce2row2_col0\" class=\"data row2 col0\" >4</td> \n",
       "        <td id=\"T_a8942de6_f70c_11e7_a464_b4b52f307ce2row2_col1\" class=\"data row2 col1\" >$3.39</td> \n",
       "        <td id=\"T_a8942de6_f70c_11e7_a464_b4b52f307ce2row2_col2\" class=\"data row2 col2\" >$13.56</td> \n",
       "    </tr>    <tr> \n",
       "        <th id=\"T_a8942de6_f70c_11e7_a464_b4b52f307ce2level0_row3\" class=\"row_heading level0 row3\" >Sondim43</th> \n",
       "        <td id=\"T_a8942de6_f70c_11e7_a464_b4b52f307ce2row3_col0\" class=\"data row3 col0\" >4</td> \n",
       "        <td id=\"T_a8942de6_f70c_11e7_a464_b4b52f307ce2row3_col1\" class=\"data row3 col1\" >$3.25</td> \n",
       "        <td id=\"T_a8942de6_f70c_11e7_a464_b4b52f307ce2row3_col2\" class=\"data row3 col2\" >$13.02</td> \n",
       "    </tr>    <tr> \n",
       "        <th id=\"T_a8942de6_f70c_11e7_a464_b4b52f307ce2level0_row4\" class=\"row_heading level0 row4\" >Mindimnya67</th> \n",
       "        <td id=\"T_a8942de6_f70c_11e7_a464_b4b52f307ce2row4_col0\" class=\"data row4 col0\" >4</td> \n",
       "        <td id=\"T_a8942de6_f70c_11e7_a464_b4b52f307ce2row4_col1\" class=\"data row4 col1\" >$3.18</td> \n",
       "        <td id=\"T_a8942de6_f70c_11e7_a464_b4b52f307ce2row4_col2\" class=\"data row4 col2\" >$12.74</td> \n",
       "    </tr></tbody> \n",
       "</table> "
      ],
      "text/plain": [
       "<pandas.io.formats.style.Styler at 0x24fc79ca160>"
      ]
     },
     "execution_count": 250,
     "metadata": {},
     "output_type": "execute_result"
    }
   ],
   "source": [
    "# Identify the the top 5 spenders in the game by total purchase value, then list (in a table):\n",
    "\n",
    "# Purchase Count\n",
    "top_purchase_count_df = pd.DataFrame(combined_purchase_df['Price'].groupby(combined_purchase_df['SN']).count())\n",
    "\n",
    "# Average Purchase Price\n",
    "top_avg_price_df = pd.DataFrame(combined_purchase_df['Price'].groupby(combined_purchase_df['SN']).mean())\n",
    "\n",
    "# Total Purchase Value\n",
    "top_total_value_df = pd.DataFrame(combined_purchase_df['Price'].groupby(combined_purchase_df['SN']).sum())\n",
    "\n",
    "top_spenders_df = pd.DataFrame(pd.concat([top_purchase_count_df, top_avg_price_df], axis=1))\n",
    "top_spenders_df = pd.DataFrame(pd.concat([top_spenders_df, top_total_value_df], axis=1))\n",
    "\n",
    "\n",
    "top_spenders_df.columns = ['Purchase Count', 'Average Purchase Price', 'Total Purchase Value']\n",
    "top_spenders_df.sort_values(by='Total Purchase Value', ascending=False).head(5).style.format({'Purchase Count': '{}', 'Average Purchase Price': '${:.2f}', 'Total Purchase Value': '${:.2f}'})\n"
   ]
  },
  {
   "cell_type": "markdown",
   "metadata": {
    "collapsed": true
   },
   "source": [
    "# Most Popular Items"
   ]
  },
  {
   "cell_type": "code",
   "execution_count": 251,
   "metadata": {},
   "outputs": [
    {
     "data": {
      "text/html": [
       "<style  type=\"text/css\" >\n",
       "</style>  \n",
       "<table id=\"T_a91f73c2_f70c_11e7_9038_b4b52f307ce2\" > \n",
       "<thead>    <tr> \n",
       "        <th class=\"blank\" ></th> \n",
       "        <th class=\"blank level0\" ></th> \n",
       "        <th class=\"col_heading level0 col0\" >Purchase Count</th> \n",
       "        <th class=\"col_heading level0 col1\" >Item Price</th> \n",
       "        <th class=\"col_heading level0 col2\" >Total Purchase Value</th> \n",
       "    </tr>    <tr> \n",
       "        <th class=\"index_name level0\" >Item ID</th> \n",
       "        <th class=\"index_name level1\" >Item Name</th> \n",
       "        <th class=\"blank\" ></th> \n",
       "        <th class=\"blank\" ></th> \n",
       "        <th class=\"blank\" ></th> \n",
       "    </tr></thead> \n",
       "<tbody>    <tr> \n",
       "        <th id=\"T_a91f73c2_f70c_11e7_9038_b4b52f307ce2level0_row0\" class=\"row_heading level0 row0\" >84</th> \n",
       "        <th id=\"T_a91f73c2_f70c_11e7_9038_b4b52f307ce2level1_row0\" class=\"row_heading level1 row0\" >Arcane Gem</th> \n",
       "        <td id=\"T_a91f73c2_f70c_11e7_9038_b4b52f307ce2row0_col0\" class=\"data row0 col0\" >12</td> \n",
       "        <td id=\"T_a91f73c2_f70c_11e7_9038_b4b52f307ce2row0_col1\" class=\"data row0 col1\" >$2.45</td> \n",
       "        <td id=\"T_a91f73c2_f70c_11e7_9038_b4b52f307ce2row0_col2\" class=\"data row0 col2\" >$29.34</td> \n",
       "    </tr>    <tr> \n",
       "        <th id=\"T_a91f73c2_f70c_11e7_9038_b4b52f307ce2level0_row1\" class=\"row_heading level0 row1\" >39</th> \n",
       "        <th id=\"T_a91f73c2_f70c_11e7_9038_b4b52f307ce2level1_row1\" class=\"row_heading level1 row1\" >Betrayal, Whisper of Grieving Widows</th> \n",
       "        <td id=\"T_a91f73c2_f70c_11e7_9038_b4b52f307ce2row1_col0\" class=\"data row1 col0\" >11</td> \n",
       "        <td id=\"T_a91f73c2_f70c_11e7_9038_b4b52f307ce2row1_col1\" class=\"data row1 col1\" >$2.35</td> \n",
       "        <td id=\"T_a91f73c2_f70c_11e7_9038_b4b52f307ce2row1_col2\" class=\"data row1 col2\" >$25.85</td> \n",
       "    </tr>    <tr> \n",
       "        <th id=\"T_a91f73c2_f70c_11e7_9038_b4b52f307ce2level0_row2\" class=\"row_heading level0 row2\" >31</th> \n",
       "        <th id=\"T_a91f73c2_f70c_11e7_9038_b4b52f307ce2level1_row2\" class=\"row_heading level1 row2\" >Trickster</th> \n",
       "        <td id=\"T_a91f73c2_f70c_11e7_9038_b4b52f307ce2row2_col0\" class=\"data row2 col0\" >10</td> \n",
       "        <td id=\"T_a91f73c2_f70c_11e7_9038_b4b52f307ce2row2_col1\" class=\"data row2 col1\" >$2.32</td> \n",
       "        <td id=\"T_a91f73c2_f70c_11e7_9038_b4b52f307ce2row2_col2\" class=\"data row2 col2\" >$23.22</td> \n",
       "    </tr>    <tr> \n",
       "        <th id=\"T_a91f73c2_f70c_11e7_9038_b4b52f307ce2level0_row3\" class=\"row_heading level0 row3\" >34</th> \n",
       "        <th id=\"T_a91f73c2_f70c_11e7_9038_b4b52f307ce2level1_row3\" class=\"row_heading level1 row3\" >Retribution Axe</th> \n",
       "        <td id=\"T_a91f73c2_f70c_11e7_9038_b4b52f307ce2row3_col0\" class=\"data row3 col0\" >9</td> \n",
       "        <td id=\"T_a91f73c2_f70c_11e7_9038_b4b52f307ce2row3_col1\" class=\"data row3 col1\" >$4.14</td> \n",
       "        <td id=\"T_a91f73c2_f70c_11e7_9038_b4b52f307ce2row3_col2\" class=\"data row3 col2\" >$37.26</td> \n",
       "    </tr>    <tr> \n",
       "        <th id=\"T_a91f73c2_f70c_11e7_9038_b4b52f307ce2level0_row4\" class=\"row_heading level0 row4\" >107</th> \n",
       "        <th id=\"T_a91f73c2_f70c_11e7_9038_b4b52f307ce2level1_row4\" class=\"row_heading level1 row4\" >Splitter, Foe Of Subtlety</th> \n",
       "        <td id=\"T_a91f73c2_f70c_11e7_9038_b4b52f307ce2row4_col0\" class=\"data row4 col0\" >9</td> \n",
       "        <td id=\"T_a91f73c2_f70c_11e7_9038_b4b52f307ce2row4_col1\" class=\"data row4 col1\" >$3.67</td> \n",
       "        <td id=\"T_a91f73c2_f70c_11e7_9038_b4b52f307ce2row4_col2\" class=\"data row4 col2\" >$33.03</td> \n",
       "    </tr></tbody> \n",
       "</table> "
      ],
      "text/plain": [
       "<pandas.io.formats.style.Styler at 0x24fc9d89128>"
      ]
     },
     "execution_count": 251,
     "metadata": {},
     "output_type": "execute_result"
    }
   ],
   "source": [
    "# Identify the 5 most popular items by purchase count, then list (in a table):\n",
    "# Grabbing Item ID, Name and purchase count\n",
    "top_items_count_df = pd.DataFrame(combined_purchase_df['Age'].groupby([combined_purchase_df['Item ID'], \\\n",
    "                                                    combined_purchase_df['Item Name']]).count())\n",
    "\n",
    "# Item Price\n",
    "top_item_prices_df = pd.DataFrame(combined_purchase_df['Price'].groupby([combined_purchase_df['Item ID'], \\\n",
    "                                                    combined_purchase_df['Item Name']]).mean())\n",
    "\n",
    "# Total Purchase Value\n",
    "top_item_total_value_df = pd.DataFrame(combined_purchase_df['Price'].groupby([combined_purchase_df['Item ID'], \\\n",
    "                                                    combined_purchase_df['Item Name']]).sum())\n",
    "\n",
    "# Mergine DFs together\n",
    "top_item_combined_df = pd.DataFrame(pd.concat([top_items_count_df, top_item_prices_df], axis=1))\n",
    "top_item_combined_df = pd.DataFrame(pd.concat([top_item_combined_df, top_item_total_value_df], axis=1))\n",
    "\n",
    "\n",
    "top_item_combined_df.columns = ['Purchase Count', 'Item Price', 'Total Purchase Value']\n",
    "top_item_combined_df.sort_values(by=['Purchase Count', 'Total Purchase Value'], ascending=False).head(5).style.format({'Purchase Count': '{}', 'Item Price': '${:.2f}', 'Total Purchase Value': '${:.2f}'})\n"
   ]
  },
  {
   "cell_type": "markdown",
   "metadata": {},
   "source": [
    "# Most Profitable Items"
   ]
  },
  {
   "cell_type": "code",
   "execution_count": 252,
   "metadata": {},
   "outputs": [
    {
     "data": {
      "text/html": [
       "<style  type=\"text/css\" >\n",
       "</style>  \n",
       "<table id=\"T_a99874b0_f70c_11e7_9474_b4b52f307ce2\" > \n",
       "<thead>    <tr> \n",
       "        <th class=\"blank\" ></th> \n",
       "        <th class=\"blank level0\" ></th> \n",
       "        <th class=\"col_heading level0 col0\" >Purchase Count</th> \n",
       "        <th class=\"col_heading level0 col1\" >Item Price</th> \n",
       "        <th class=\"col_heading level0 col2\" >Total Purchase Value</th> \n",
       "    </tr>    <tr> \n",
       "        <th class=\"index_name level0\" >Item ID</th> \n",
       "        <th class=\"index_name level1\" >Item Name</th> \n",
       "        <th class=\"blank\" ></th> \n",
       "        <th class=\"blank\" ></th> \n",
       "        <th class=\"blank\" ></th> \n",
       "    </tr></thead> \n",
       "<tbody>    <tr> \n",
       "        <th id=\"T_a99874b0_f70c_11e7_9474_b4b52f307ce2level0_row0\" class=\"row_heading level0 row0\" >34</th> \n",
       "        <th id=\"T_a99874b0_f70c_11e7_9474_b4b52f307ce2level1_row0\" class=\"row_heading level1 row0\" >Retribution Axe</th> \n",
       "        <td id=\"T_a99874b0_f70c_11e7_9474_b4b52f307ce2row0_col0\" class=\"data row0 col0\" >9</td> \n",
       "        <td id=\"T_a99874b0_f70c_11e7_9474_b4b52f307ce2row0_col1\" class=\"data row0 col1\" >$4.14</td> \n",
       "        <td id=\"T_a99874b0_f70c_11e7_9474_b4b52f307ce2row0_col2\" class=\"data row0 col2\" >$37.26</td> \n",
       "    </tr>    <tr> \n",
       "        <th id=\"T_a99874b0_f70c_11e7_9474_b4b52f307ce2level0_row1\" class=\"row_heading level0 row1\" >107</th> \n",
       "        <th id=\"T_a99874b0_f70c_11e7_9474_b4b52f307ce2level1_row1\" class=\"row_heading level1 row1\" >Splitter, Foe Of Subtlety</th> \n",
       "        <td id=\"T_a99874b0_f70c_11e7_9474_b4b52f307ce2row1_col0\" class=\"data row1 col0\" >9</td> \n",
       "        <td id=\"T_a99874b0_f70c_11e7_9474_b4b52f307ce2row1_col1\" class=\"data row1 col1\" >$3.67</td> \n",
       "        <td id=\"T_a99874b0_f70c_11e7_9474_b4b52f307ce2row1_col2\" class=\"data row1 col2\" >$33.03</td> \n",
       "    </tr>    <tr> \n",
       "        <th id=\"T_a99874b0_f70c_11e7_9474_b4b52f307ce2level0_row2\" class=\"row_heading level0 row2\" >115</th> \n",
       "        <th id=\"T_a99874b0_f70c_11e7_9474_b4b52f307ce2level1_row2\" class=\"row_heading level1 row2\" >Spectral Diamond Doomblade</th> \n",
       "        <td id=\"T_a99874b0_f70c_11e7_9474_b4b52f307ce2row2_col0\" class=\"data row2 col0\" >7</td> \n",
       "        <td id=\"T_a99874b0_f70c_11e7_9474_b4b52f307ce2row2_col1\" class=\"data row2 col1\" >$4.25</td> \n",
       "        <td id=\"T_a99874b0_f70c_11e7_9474_b4b52f307ce2row2_col2\" class=\"data row2 col2\" >$29.75</td> \n",
       "    </tr>    <tr> \n",
       "        <th id=\"T_a99874b0_f70c_11e7_9474_b4b52f307ce2level0_row3\" class=\"row_heading level0 row3\" >32</th> \n",
       "        <th id=\"T_a99874b0_f70c_11e7_9474_b4b52f307ce2level1_row3\" class=\"row_heading level1 row3\" >Orenmir</th> \n",
       "        <td id=\"T_a99874b0_f70c_11e7_9474_b4b52f307ce2row3_col0\" class=\"data row3 col0\" >6</td> \n",
       "        <td id=\"T_a99874b0_f70c_11e7_9474_b4b52f307ce2row3_col1\" class=\"data row3 col1\" >$4.95</td> \n",
       "        <td id=\"T_a99874b0_f70c_11e7_9474_b4b52f307ce2row3_col2\" class=\"data row3 col2\" >$29.70</td> \n",
       "    </tr>    <tr> \n",
       "        <th id=\"T_a99874b0_f70c_11e7_9474_b4b52f307ce2level0_row4\" class=\"row_heading level0 row4\" >84</th> \n",
       "        <th id=\"T_a99874b0_f70c_11e7_9474_b4b52f307ce2level1_row4\" class=\"row_heading level1 row4\" >Arcane Gem</th> \n",
       "        <td id=\"T_a99874b0_f70c_11e7_9474_b4b52f307ce2row4_col0\" class=\"data row4 col0\" >12</td> \n",
       "        <td id=\"T_a99874b0_f70c_11e7_9474_b4b52f307ce2row4_col1\" class=\"data row4 col1\" >$2.45</td> \n",
       "        <td id=\"T_a99874b0_f70c_11e7_9474_b4b52f307ce2row4_col2\" class=\"data row4 col2\" >$29.34</td> \n",
       "    </tr></tbody> \n",
       "</table> "
      ],
      "text/plain": [
       "<pandas.io.formats.style.Styler at 0x24fc9d80be0>"
      ]
     },
     "execution_count": 252,
     "metadata": {},
     "output_type": "execute_result"
    }
   ],
   "source": [
    "# Identify the 5 most profitable items by total purchase value, then list (in a table):\n",
    "# Calling previous DF and resorting/reformatting\n",
    "\n",
    "top_item_combined_df.sort_values(by='Total Purchase Value', ascending=False).head(5).style.format({'Purchase Count': '{}', 'Item Price': '${:.2f}', 'Total Purchase Value': '${:.2f}'})"
   ]
  },
  {
   "cell_type": "code",
   "execution_count": null,
   "metadata": {
    "collapsed": true
   },
   "outputs": [],
   "source": []
  }
 ],
 "metadata": {
  "kernelspec": {
   "display_name": "Python 3",
   "language": "python",
   "name": "python3"
  },
  "language_info": {
   "codemirror_mode": {
    "name": "ipython",
    "version": 3
   },
   "file_extension": ".py",
   "mimetype": "text/x-python",
   "name": "python",
   "nbconvert_exporter": "python",
   "pygments_lexer": "ipython3",
   "version": "3.6.3"
  }
 },
 "nbformat": 4,
 "nbformat_minor": 2
}
